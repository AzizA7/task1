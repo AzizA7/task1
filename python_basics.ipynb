{
 "cells": [
  {
   "cell_type": "markdown",
   "metadata": {},
   "source": [
    "**Задание 1**. Даны 2 строки: *long_phrase* и *short_phrase*. \n",
    "Напишите код, который проверяет действительно ли длинная фраза *long_phrase* длиннее короткой *short_phrase*. И выводит *True* или *False* в зависимости от результата сравнения."
   ]
  },
  {
   "cell_type": "code",
   "execution_count": null,
   "metadata": {},
   "outputs": [],
   "source": [
    "long_phrase = 'Насколько проще было бы писать программы, если бы не заказчики'\n",
    "short_phrase = '640Кб должно хватить для любых задач. Билл Гейтс (по легенде)'"
   ]
  },
  {
   "cell_type": "code",
   "execution_count": 5,
   "metadata": {},
   "outputs": [
    {
     "data": {
      "text/plain": [
       "True"
      ]
     },
     "execution_count": 5,
     "metadata": {},
     "output_type": "execute_result"
    }
   ],
   "source": [
    "len ('Насколько проще было бы писать программы, если бы не заказчики') > len ('640Кб должно хватить для любых задач. Билл Гейтс (по легенде)')"
   ]
  },
  {
   "cell_type": "code",
   "execution_count": 7,
   "metadata": {},
   "outputs": [
    {
     "data": {
      "text/plain": [
       "False"
      ]
     },
     "execution_count": 7,
     "metadata": {},
     "output_type": "execute_result"
    }
   ],
   "source": [
    "len ('Насколько проще было бы писать программы, если бы не заказчики') < len ('640Кб должно хватить для любых задач. Билл Гейтс (по легенде)')"
   ]
  },
  {
   "cell_type": "markdown",
   "metadata": {},
   "source": [
    "**Задание 2**. Дано значение объема файла в байтах (*в мегабайте 2^20 байт*). Напишите перевод этого значения в мегабайты в формате: \"*Объем файла равен 213.68Mb*\"."
   ]
  },
  {
   "cell_type": "code",
   "execution_count": 2,
   "metadata": {
    "scrolled": true
   },
   "outputs": [
    {
     "name": "stdout",
     "output_type": "stream",
     "text": [
      "Введите значение в байтах: 1000000\n",
      "Объем файла равен 1.0Mb\n"
     ]
    }
   ],
   "source": [
    "b=float(input('Введите значение в байтах: '))\n",
    "mb=b/1000000\n",
    "print ('Объем файла равен {}Mb'.format(mb))\n"
   ]
  },
  {
   "cell_type": "markdown",
   "metadata": {},
   "source": [
    "**Задание 3**. Разработать приложение для определения знака зодиака по дате рождения. Пример:\n",
    "\n",
    "Введите месяц: март\n",
    "\n",
    "Введите число: 6\n",
    "\n",
    "Вывод:\n",
    "Рыбы"
   ]
  },
  {
   "cell_type": "code",
   "execution_count": 15,
   "metadata": {},
   "outputs": [
    {
     "name": "stdout",
     "output_type": "stream",
     "text": [
      "Введите месяц: май\n",
      "Введите число: 15\n",
      "Телец\n"
     ]
    }
   ],
   "source": [
    "month = str(input('Введите месяц: '))\n",
    "date = int(input('Введите число: '))\n",
    "if (month == ('январь') and date >= 21) or (month == ('февраль') and date <= 19):\n",
    "    print ('Водолей')\n",
    "elif (month == ('февраль') and date >= 20) or (month == ('март') and date <= 20):\n",
    "    print ('Рыбы')\n",
    "elif (month == ('март') and date >= 21) or (month == ('апрель') and date <= 20):\n",
    "    print ('Овен')\n",
    "elif (month == ('апрель') and date >= 21) or (month == ('май') and date <= 20):\n",
    "    print ('Телец')  \n",
    "elif (month == ('май') and date >= 21) or (month == ('июня') and date <= 21):\n",
    "    print ('Близницы')  \n",
    "elif (month == ('июня') and date >= 22) or (month == ('июля') and date <= 22):\n",
    "    print ('Рак') \n",
    "elif (month == ('июля') and date >= 23) or (month == ('августа') and date <= 23):\n",
    "    print ('Лев')\n",
    "elif (month == ('августа') and date >= 24) or (month == ('сентября') and date <= 23):\n",
    "    print ('Дева')        \n",
    "elif (month == ('сентября') and date >= 24) or (month == ('октября') and date <= 23):\n",
    "    print ('Весы')\n",
    "elif (month == ('октября') and date >= 24) or (month == ('ноября') and date <= 22):\n",
    "    print ('Скорпион') \n",
    "elif (month == ('ноября') and date >= 23) or (month == ('декабря') and date <= 21):\n",
    "    print ('Стрелец')  \n",
    "elif (month == ('декабря') and date >= 22) or (month == ('января') and date <= 20):\n",
    "    print ('Стрелец')                         \n",
    "else:\n",
    "    print('Вывод {}')"
   ]
  },
  {
   "cell_type": "markdown",
   "metadata": {},
   "source": [
    "**Задание 4**. Нужно разработать приложение для финансового планирования.\n",
    "Приложение учитывает сколько уходит на ипотеку, \"на жизнь\" и сколько нужно отложить на пенсию.\n",
    "Пользователь вводит:\n",
    "- заработанную плату в месяц.\n",
    "- сколько процентов от ЗП уходит на ипотеку.\n",
    "- сколько процентов от ЗП уходит \"на жизнь\".\n",
    "- сколько раз приходит премия в год.\n",
    "\n",
    "Остальная часть заработанной платы откладывается на пенсию.\n",
    "\n",
    "Также пользователю приходит премия в размере зарплаты, от которой половина уходит на отпуск, а вторая половина откладывается.\n",
    "\n",
    "Программа должна учитывать сколько премий было в год.\n",
    "\n",
    "Нужно вывести сколько денег тратит пользователь на ипотеку и сколько он накопит за год.\n",
    "\n",
    "Пример:\n",
    "\n",
    "Введите заработанную плату в месяц: 100000\n",
    "\n",
    "Введите сколько процентов уходит на ипотеку: 30\n",
    "\n",
    "Введите сколько процентов уходит на жизнь: 50\n",
    "\n",
    "Введите количество премий за год: 2\n",
    "\n",
    "Вывод:\n",
    "На ипотеку было потрачено: 360000 рублей\n",
    "Было накоплено: 340000 рублей"
   ]
  },
  {
   "cell_type": "code",
   "execution_count": 1,
   "metadata": {},
   "outputs": [
    {
     "name": "stdout",
     "output_type": "stream",
     "text": [
      "Введите заработанную плату в месяц: 100000\n",
      "Введите сколько процентов уходит на ипотеку: 20\n",
      "Введите сколько процентов уходит на жизнь: 50\n",
      "Введите количество премий за год: 2\n",
      "На ипотеку было потрачено: 240000 рублей Было накоплено : 460000 рублей\n"
     ]
    }
   ],
   "source": [
    "salary = int(input('Введите заработанную плату в месяц: '))gi\n",
    "mortgage_interest = int(input('Введите сколько процентов уходит на ипотеку: '))\n",
    "life_cost = int(input('Введите сколько процентов уходит на жизнь: '))\n",
    "bonus_quantity = int(input('Введите количество премий за год: '))\n",
    "total_salary = salary * 12\n",
    "total_bonuses = salary * bonus_quantity/2\n",
    "mortgage_total = total_salary/100*mortgage_interest\n",
    "life_total = total_salary/100*life_cost\n",
    "savings = total_salary-mortgage_total-life_total+total_bonuses\n",
    "print('На ипотеку было потрачено: {0} рублей Было накоплено : {1} рублей'.format(int(mortgage_total), int(savings)))"
   ]
  },
  {
   "cell_type": "code",
   "execution_count": null,
   "metadata": {},
   "outputs": [],
   "source": []
  }
 ],
 "metadata": {
  "kernelspec": {
   "display_name": "Python 3",
   "language": "python",
   "name": "python3"
  },
  "language_info": {
   "codemirror_mode": {
    "name": "ipython",
    "version": 3
   },
   "file_extension": ".py",
   "mimetype": "text/x-python",
   "name": "python",
   "nbconvert_exporter": "python",
   "pygments_lexer": "ipython3",
   "version": "3.7.4"
  }
 },
 "nbformat": 4,
 "nbformat_minor": 2
}
